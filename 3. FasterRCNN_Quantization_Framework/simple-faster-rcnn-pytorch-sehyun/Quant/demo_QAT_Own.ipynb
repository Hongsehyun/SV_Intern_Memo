{
 "cells": [
  {
   "cell_type": "code",
   "execution_count": 1,
   "metadata": {},
   "outputs": [
    {
     "name": "stderr",
     "output_type": "stream",
     "text": [
      "Setting up a new session...\n"
     ]
    }
   ],
   "source": [
    "from __future__ import  absolute_import\n",
    "\n",
    "import os   \n",
    "import random\n",
    "import numpy as np\n",
    "import cv2 as cv\n",
    "from cv2 import * \n",
    "import torch\n",
    "\n",
    "import ipdb                    # Debugging Tool\n",
    "                               # https://stricky.tistory.com/93 \n",
    "import matplotlib\n",
    "from tqdm import tqdm          # 연속적인 작업을 수행할때 진행률 보다 깔끔하게 표시해주는 Library\n",
    "                               # https://jangjy.tistory.com/342\n",
    "\n",
    "# Pre-Defined Model and Function Call\n",
    "from utils.config import opt\n",
    "from data.dataset import Dataset, TestDataset, inverse_normalize\n",
    "from model import FasterRCNNVGG16\n",
    "from torch.utils import data as data_\n",
    "from trainer import FasterRCNNTrainer\n",
    "from utils import array_tool as at\n",
    "from utils.vis_tool import visdom_bbox\n",
    "from utils.eval_tool import eval_detection_voc\n",
    "\n",
    "import visdom\n",
    "vis = visdom.Visdom()\n",
    "\n",
    "# # fix for ulimit\n",
    "# # https://github.com/pytorch/pytorch/issues/973#issuecomment-346405667\n",
    "import resource\n",
    "\n",
    "rlimit = resource.getrlimit(resource.RLIMIT_NOFILE)\n",
    "resource.setrlimit(resource.RLIMIT_NOFILE, (20480, rlimit[1]))  \n",
    "\n",
    "matplotlib.use('agg')\n"
   ]
  },
  {
   "cell_type": "code",
   "execution_count": 2,
   "metadata": {},
   "outputs": [],
   "source": [
    "def train(**kwargs):   # **kwargs = 딕셔너리 형태로 값을 저장. https://legitcode267.tistory.com/13\n",
    "    opt._parse(kwargs) #  _parse  = 추출하고자 하는 문자열의 패턴\n",
    "    dataset = Dataset(opt)"
   ]
  }
 ],
 "metadata": {
  "kernelspec": {
   "display_name": "Python 3.8.12 ('base')",
   "language": "python",
   "name": "python3"
  },
  "language_info": {
   "codemirror_mode": {
    "name": "ipython",
    "version": 3
   },
   "file_extension": ".py",
   "mimetype": "text/x-python",
   "name": "python",
   "nbconvert_exporter": "python",
   "pygments_lexer": "ipython3",
   "version": "3.8.12"
  },
  "vscode": {
   "interpreter": {
    "hash": "d4d1e4263499bec80672ea0156c357c1ee493ec2b1c70f0acce89fc37c4a6abe"
   }
  }
 },
 "nbformat": 4,
 "nbformat_minor": 2
}
