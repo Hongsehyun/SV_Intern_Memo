{
 "cells": [
  {
   "cell_type": "markdown",
   "id": "a76bfd1c",
   "metadata": {},
   "source": [
    "### Import Libraries"
   ]
  },
  {
   "cell_type": "markdown",
   "id": "a62b4edb",
   "metadata": {},
   "source": [
    "* 작성자 : 홍세현(Hong Se Hyun)\n",
    "* 날짜   : 2022.07.07."
   ]
  },
  {
   "cell_type": "code",
   "execution_count": 1,
   "id": "fcfc9b64",
   "metadata": {},
   "outputs": [],
   "source": [
    "import random\n",
    "import numpy as np\n",
    "import os"
   ]
  },
  {
   "cell_type": "markdown",
   "id": "31675ccf",
   "metadata": {},
   "source": [
    "---"
   ]
  },
  {
   "cell_type": "markdown",
   "id": "f28647ce",
   "metadata": {},
   "source": [
    "#### 인덱스 무작위 추출 후 .txt 파일에 쓰기\n",
    "\n",
    "* trainval.txt\n",
    "* test.txt\n",
    "\n",
    "파일 2개 생성이 되는 코드!"
   ]
  },
  {
   "cell_type": "code",
   "execution_count": 2,
   "id": "e50bcc68",
   "metadata": {},
   "outputs": [],
   "source": [
    "total_num    = 9963  # Return : 9963\n",
    "total_list   = range(0, total_num-1)\n",
    "total_list_arr = np.arange(0, total_num)\n",
    "total_list_arr = set(total_list_arr)\n",
    "\n",
    "trainval_percent = 0.9\n",
    "trainval_number  = int(total_num*trainval_percent)  # Trainval Data Number = 8966\n",
    "test_number      = total_num-trainval_number        # Test Data Number     = 997\n",
    "\n",
    "trainval_index   = random.sample(total_list, trainval_number)\n",
    "trainval_index_set = set(trainval_index)\n",
    "\n",
    "test_index       = list(total_list_arr-trainval_index_set)"
   ]
  },
  {
   "cell_type": "code",
   "execution_count": 3,
   "id": "c64f07c8",
   "metadata": {},
   "outputs": [],
   "source": [
    "# Writing\n",
    "trainval_generation_path = 'PASCAL_CLASS_DATASET_SPLITTED/trainval.txt'\n",
    "test_generation_path     = 'PASCAL_CLASS_DATASET_SPLITTED/test.txt'\n",
    "    \n",
    "f_trainval = open(trainval_generation_path, 'w')\n",
    "f_test     = open(test_generation_path, 'w')\n",
    "    \n",
    "for index in range(0, test_number):\n",
    "    test_str = str(test_index[index]).zfill(6)\n",
    "    f_test.write(test_str)\n",
    "    f_test.write(\"\\n\")\n",
    "        \n",
    "for index in range(0, trainval_number):\n",
    "    trainval_str = str(trainval_index[index]).zfill(6)\n",
    "    f_trainval.write(trainval_str)\n",
    "    f_trainval.write(\"\\n\")\n",
    "    \n",
    "f_trainval.close()\n",
    "f_test.close()"
   ]
  },
  {
   "cell_type": "markdown",
   "id": "7874c186",
   "metadata": {},
   "source": [
    "---"
   ]
  },
  {
   "cell_type": "markdown",
   "id": "0c5544a4",
   "metadata": {},
   "source": [
    "#### 인덱스 무작위 추출 후 각 Class별로 값을 읽어온 뒤 비율에 따라서 .txt 파일에 쓰기\n",
    "\n",
    "* aeroplane_test.txt\n",
    "* aeroplane_trainval.txt\n",
    "* bicycle_test.txt\n",
    "* bicycle_trainval.txt\n",
    "\n",
    "etc...\n",
    "\n",
    "20개의 Class에 대해서 총 40개의 파일이 생성되는 코드!"
   ]
  },
  {
   "cell_type": "code",
   "execution_count": 4,
   "id": "83f3c92e",
   "metadata": {},
   "outputs": [],
   "source": [
    "VOC_BBOX_LABEL_NAMES = (\n",
    "    'aeroplane',\n",
    "    'bicycle',\n",
    "    'bird',\n",
    "    'boat',\n",
    "    'bottle',\n",
    "    'bus',\n",
    "    'car',\n",
    "    'cat',\n",
    "    'chair',\n",
    "    'cow',\n",
    "    'diningtable',\n",
    "    'dog',\n",
    "    'horse',\n",
    "    'motorbike',\n",
    "    'person',\n",
    "    'pottedplant',\n",
    "    'sheep',\n",
    "    'sofa',\n",
    "    'train',\n",
    "    'tvmonitor')"
   ]
  },
  {
   "cell_type": "code",
   "execution_count": 5,
   "id": "b2e40e93",
   "metadata": {},
   "outputs": [],
   "source": [
    "total_num    = 9963  # Return : 9963\n",
    "total_list   = range(0, total_num-1)\n",
    "total_list_arr = np.arange(0, total_num)\n",
    "total_list_arr = set(total_list_arr)\n",
    "\n",
    "trainval_percent = 0.9\n",
    "trainval_number  = int(total_num*trainval_percent)  # Trainval Data Number = 8966\n",
    "test_number      = total_num-trainval_number        # Test Data Number     = 997\n",
    "\n",
    "trainval_index   = random.sample(total_list, trainval_number)\n",
    "trainval_index_set = set(trainval_index)\n",
    "\n",
    "test_index       = list(total_list_arr-trainval_index_set)"
   ]
  },
  {
   "cell_type": "code",
   "execution_count": 6,
   "id": "ee031f39",
   "metadata": {},
   "outputs": [
    {
     "data": {
      "text/plain": [
       "array([ 0,  1,  2,  3,  4,  5,  6,  7,  8,  9, 10, 11, 13, 14, 15, 16, 17,\n",
       "       18, 19, 20])"
      ]
     },
     "execution_count": 6,
     "metadata": {},
     "output_type": "execute_result"
    }
   ],
   "source": [
    "trainval_index_array = np.array(trainval_index)\n",
    "trainval_index_array = np.sort(trainval_index_array)\n",
    "trainval_index_array[0:20]"
   ]
  },
  {
   "cell_type": "code",
   "execution_count": 7,
   "id": "70015633",
   "metadata": {},
   "outputs": [
    {
     "data": {
      "text/plain": [
       "array([ 12,  49,  57,  58,  59,  65,  77,  83, 103, 137])"
      ]
     },
     "execution_count": 7,
     "metadata": {},
     "output_type": "execute_result"
    }
   ],
   "source": [
    "test_index_array = np.array(test_index)\n",
    "test_index_array = np.sort(test_index_array)\n",
    "test_index_array[0:10]"
   ]
  },
  {
   "cell_type": "code",
   "execution_count": 8,
   "id": "602bed74",
   "metadata": {},
   "outputs": [],
   "source": [
    "# trainval_index"
   ]
  },
  {
   "cell_type": "code",
   "execution_count": 9,
   "id": "5e808ba4",
   "metadata": {},
   "outputs": [],
   "source": [
    "# test_index"
   ]
  },
  {
   "cell_type": "markdown",
   "id": "fc3b41f2",
   "metadata": {},
   "source": [
    " "
   ]
  },
  {
   "cell_type": "markdown",
   "id": "ecdd82c5",
   "metadata": {},
   "source": [
    " "
   ]
  },
  {
   "cell_type": "code",
   "execution_count": 10,
   "id": "1fea70ae",
   "metadata": {},
   "outputs": [],
   "source": [
    "total_num        = 9963  # Return : 9963\n",
    "trainval_number  = 8966  # Trainval Data Number = 8966\n",
    "test_number      = 997   # Test Data Number     = 997\n",
    "\n",
    "\n",
    "for label_name in VOC_BBOX_LABEL_NAMES:\n",
    "    # Reading\n",
    "    file_path = 'PASCAL_CLASS_DATASET/'+label_name+'.txt'\n",
    "    f = open(file_path)\n",
    "    line = f.readlines()\n",
    "\n",
    "    test     = []\n",
    "    trainval = []\n",
    "    \n",
    "    for testdata_index in test_index:\n",
    "        test.append(line[testdata_index])\n",
    "        \n",
    "    for trainvaldata_index in trainval_index:\n",
    "        trainval.append(line[trainvaldata_index])\n",
    "\n",
    "    f.close()\n",
    "    \n",
    "    \n",
    "    \n",
    "    # Writing\n",
    "    trainval_generation_path = 'PASCAL_CLASS_DATASET_SPLITTED/'+label_name+'_trainval.txt'\n",
    "    test_generation_path     = 'PASCAL_CLASS_DATASET_SPLITTED/'+label_name+'_test.txt'\n",
    "    \n",
    "    f_trainval = open(trainval_generation_path, 'w')\n",
    "    f_test     = open(test_generation_path, 'w')\n",
    "    \n",
    "    for index in range(0, test_number):\n",
    "        test_str = str(test[index])[0:9]\n",
    "        f_test.write(test_str)\n",
    "        f_test.write(\"\\n\")\n",
    "        \n",
    "    for index in range(0, trainval_number):\n",
    "        trainval_str = str(trainval[index])[0:9]\n",
    "        f_trainval.write(trainval_str)\n",
    "        f_trainval.write(\"\\n\")\n",
    "    \n",
    "    f_trainval.close()\n",
    "    f_test.close()\n"
   ]
  }
 ],
 "metadata": {
  "kernelspec": {
   "display_name": "Python 3 (ipykernel)",
   "language": "python",
   "name": "python3"
  },
  "language_info": {
   "codemirror_mode": {
    "name": "ipython",
    "version": 3
   },
   "file_extension": ".py",
   "mimetype": "text/x-python",
   "name": "python",
   "nbconvert_exporter": "python",
   "pygments_lexer": "ipython3",
   "version": "3.9.12"
  }
 },
 "nbformat": 4,
 "nbformat_minor": 5
}
