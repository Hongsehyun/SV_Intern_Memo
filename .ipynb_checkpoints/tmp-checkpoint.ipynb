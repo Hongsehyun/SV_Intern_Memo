{
 "cells": [
  {
   "cell_type": "code",
   "execution_count": 2,
   "id": "3cdf41db",
   "metadata": {},
   "outputs": [],
   "source": [
    "import os"
   ]
  },
  {
   "cell_type": "code",
   "execution_count": 6,
   "id": "a556b266",
   "metadata": {},
   "outputs": [],
   "source": [
    "a = os.path"
   ]
  },
  {
   "cell_type": "code",
   "execution_count": 7,
   "id": "5605beed",
   "metadata": {},
   "outputs": [
    {
     "data": {
      "text/plain": [
       "<module 'ntpath' from 'C:\\\\Users\\\\SVhd08\\\\anaconda3\\\\lib\\\\ntpath.py'>"
      ]
     },
     "execution_count": 7,
     "metadata": {},
     "output_type": "execute_result"
    }
   ],
   "source": [
    "a"
   ]
  },
  {
   "cell_type": "code",
   "execution_count": null,
   "id": "b6de59fa",
   "metadata": {},
   "outputs": [],
   "source": []
  },
  {
   "cell_type": "code",
   "execution_count": null,
   "id": "f2536784",
   "metadata": {},
   "outputs": [],
   "source": [
    " id_list_file = os.path.join(, 'ImageSets/Main/trainval.txt') "
   ]
  }
 ],
 "metadata": {
  "kernelspec": {
   "display_name": "Python 3 (ipykernel)",
   "language": "python",
   "name": "python3"
  },
  "language_info": {
   "codemirror_mode": {
    "name": "ipython",
    "version": 3
   },
   "file_extension": ".py",
   "mimetype": "text/x-python",
   "name": "python",
   "nbconvert_exporter": "python",
   "pygments_lexer": "ipython3",
   "version": "3.9.12"
  }
 },
 "nbformat": 4,
 "nbformat_minor": 5
}
